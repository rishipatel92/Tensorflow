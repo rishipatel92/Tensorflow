{
  "cells": [
    {
      "cell_type": "markdown",
      "metadata": {
        "id": "view-in-github",
        "colab_type": "text"
      },
      "source": [
        "<a href=\"https://colab.research.google.com/github/rishipatel92/Tensorflow/blob/main/Predicting_College_Placement_Using_TensorFlow.ipynb\" target=\"_parent\"><img src=\"https://colab.research.google.com/assets/colab-badge.svg\" alt=\"Open In Colab\"/></a>"
      ]
    },
    {
      "cell_type": "code",
      "execution_count": 53,
      "id": "eddc42ea",
      "metadata": {
        "id": "eddc42ea"
      },
      "outputs": [],
      "source": [
        "import pandas as pd\n",
        "import numpy as np\n",
        "import seaborn as sns\n",
        "import matplotlib.pyplot as pt\n",
        "import tensorflow as tf"
      ]
    },
    {
      "cell_type": "code",
      "source": [
        "from google.colab import drive\n",
        "drive.mount('/content/drive')"
      ],
      "metadata": {
        "colab": {
          "base_uri": "https://localhost:8080/"
        },
        "id": "hIE2vVQKk2O_",
        "outputId": "e52fc020-391a-4bf8-8334-c8f0cdf4eb43"
      },
      "id": "hIE2vVQKk2O_",
      "execution_count": 54,
      "outputs": [
        {
          "output_type": "stream",
          "name": "stdout",
          "text": [
            "Drive already mounted at /content/drive; to attempt to forcibly remount, call drive.mount(\"/content/drive\", force_remount=True).\n"
          ]
        }
      ]
    },
    {
      "cell_type": "code",
      "execution_count": 55,
      "id": "ff180a9e",
      "metadata": {
        "id": "ff180a9e"
      },
      "outputs": [],
      "source": [
        "df_train = pd.read_excel(\"/content/drive/MyDrive/Prediction of Placement Status Data/01 Train Data.xlsx\")"
      ]
    },
    {
      "cell_type": "code",
      "execution_count": 56,
      "id": "3e0b566a",
      "metadata": {
        "id": "3e0b566a"
      },
      "outputs": [],
      "source": [
        "df_test_m = pd.read_excel(\"/content/drive/MyDrive/Prediction of Placement Status Data/02 Test Data.xlsx\")"
      ]
    },
    {
      "cell_type": "code",
      "execution_count": 57,
      "id": "4eaf812f",
      "metadata": {
        "id": "4eaf812f"
      },
      "outputs": [],
      "source": [
        "df_train = df_train[['CGPA','Speaking Skills','ML Knowledge','Placement Status']]"
      ]
    },
    {
      "cell_type": "code",
      "execution_count": 58,
      "id": "c24677b1",
      "metadata": {
        "id": "c24677b1"
      },
      "outputs": [],
      "source": [
        "df_test_c = df_test_m[['CGPA','Speaking Skills','ML Knowledge']]"
      ]
    },
    {
      "cell_type": "code",
      "execution_count": 59,
      "id": "da9f2051",
      "metadata": {
        "scrolled": false,
        "id": "da9f2051"
      },
      "outputs": [],
      "source": [
        "df_train = df_train.dropna(axis=0)"
      ]
    },
    {
      "cell_type": "markdown",
      "id": "c9d16bf9",
      "metadata": {
        "id": "c9d16bf9"
      },
      "source": [
        "Replacing the Placement Status with 0 and 1 to train the model"
      ]
    },
    {
      "cell_type": "code",
      "execution_count": 60,
      "id": "04334cb9",
      "metadata": {
        "id": "04334cb9"
      },
      "outputs": [],
      "source": [
        "df_train.loc[df_train[\"Placement Status\"] == \"Not placed\",\"Placement Status\"] = 0\n",
        "df_train.loc[df_train[\"Placement Status\"] == \"Placed\",\"Placement Status\"] = 1"
      ]
    },
    {
      "cell_type": "code",
      "execution_count": 61,
      "id": "b895d769",
      "metadata": {
        "id": "b895d769"
      },
      "outputs": [],
      "source": [
        "x = df_train[['CGPA','Speaking Skills','ML Knowledge']]\n",
        "y = df_train['Placement Status'].astype('int')"
      ]
    },
    {
      "cell_type": "code",
      "execution_count": 62,
      "id": "2fc11a1f",
      "metadata": {
        "id": "2fc11a1f"
      },
      "outputs": [],
      "source": [
        "from sklearn.model_selection import train_test_split"
      ]
    },
    {
      "cell_type": "code",
      "execution_count": 63,
      "id": "70f73afb",
      "metadata": {
        "id": "70f73afb"
      },
      "outputs": [],
      "source": [
        "x_train, x_test, y_train, y_test = train_test_split(x, y, test_size=0.33, random_state=42)"
      ]
    },
    {
      "cell_type": "code",
      "source": [
        "tf.convert_to_tensor(x_train)"
      ],
      "metadata": {
        "colab": {
          "base_uri": "https://localhost:8080/"
        },
        "id": "yLbygUKFY13u",
        "outputId": "d1d622c7-4814-4af0-9f3d-e9b2a1ba4a6a"
      },
      "id": "yLbygUKFY13u",
      "execution_count": 64,
      "outputs": [
        {
          "output_type": "execute_result",
          "data": {
            "text/plain": [
              "<tf.Tensor: shape=(735, 3), dtype=float64, numpy=\n",
              "array([[7.1, 2. , 3. ],\n",
              "       [7.4, 4. , 4. ],\n",
              "       [7.4, 4. , 4. ],\n",
              "       ...,\n",
              "       [8.3, 2. , 2. ],\n",
              "       [7.9, 4. , 4. ],\n",
              "       [7.3, 2. , 2. ]])>"
            ]
          },
          "metadata": {},
          "execution_count": 64
        }
      ]
    },
    {
      "cell_type": "code",
      "source": [
        "normalizer = tf.keras.layers.Normalization(axis=-1)\n",
        "normalizer.adapt(x_train)"
      ],
      "metadata": {
        "id": "34PupE-XY1_a"
      },
      "id": "34PupE-XY1_a",
      "execution_count": 68,
      "outputs": []
    },
    {
      "cell_type": "code",
      "source": [
        "normalizer(x_train.iloc[:3])"
      ],
      "metadata": {
        "colab": {
          "base_uri": "https://localhost:8080/"
        },
        "id": "ftXgoXfKY2G0",
        "outputId": "2abde5d5-ad49-49f7-976c-479a022883d2"
      },
      "id": "ftXgoXfKY2G0",
      "execution_count": 70,
      "outputs": [
        {
          "output_type": "execute_result",
          "data": {
            "text/plain": [
              "<tf.Tensor: shape=(3, 3), dtype=float32, numpy=\n",
              "array([[-0.9672729 , -1.2846429 , -0.44192353],\n",
              "       [-0.6656413 ,  0.4336693 ,  0.4242462 ],\n",
              "       [-0.6656413 ,  0.4336693 ,  0.4242462 ]], dtype=float32)>"
            ]
          },
          "metadata": {},
          "execution_count": 70
        }
      ]
    },
    {
      "cell_type": "code",
      "source": [
        "def get_basic_model():\n",
        "  model = tf.keras.Sequential([\n",
        "    normalizer,\n",
        "    tf.keras.layers.Dense(10, activation='relu'),\n",
        "    tf.keras.layers.Dense(10, activation='relu'),\n",
        "    tf.keras.layers.Dense(1)\n",
        "  ])\n",
        "\n",
        "  model.compile(optimizer='adam',\n",
        "                loss=tf.keras.losses.BinaryCrossentropy(from_logits=True),\n",
        "                metrics=['accuracy'])\n",
        "  return model"
      ],
      "metadata": {
        "id": "4rohjALPckmu"
      },
      "id": "4rohjALPckmu",
      "execution_count": 75,
      "outputs": []
    },
    {
      "cell_type": "code",
      "source": [
        "SHUFFLE_BUFFER = 500\n",
        "BATCH_SIZE = 2\n",
        "model = get_basic_model()\n",
        "model.fit(x_train, y_train, epochs=15, batch_size=BATCH_SIZE)"
      ],
      "metadata": {
        "colab": {
          "base_uri": "https://localhost:8080/"
        },
        "id": "VRv1EyFNckwg",
        "outputId": "1d43f942-0799-44da-a4f7-f0dce1ff87fa"
      },
      "id": "VRv1EyFNckwg",
      "execution_count": 76,
      "outputs": [
        {
          "output_type": "stream",
          "name": "stdout",
          "text": [
            "Epoch 1/15\n",
            "368/368 [==============================] - 2s 2ms/step - loss: 0.6670 - accuracy: 0.6694\n",
            "Epoch 2/15\n",
            "368/368 [==============================] - 1s 2ms/step - loss: 0.6323 - accuracy: 0.6776\n",
            "Epoch 3/15\n",
            "368/368 [==============================] - 1s 2ms/step - loss: 0.6279 - accuracy: 0.6776\n",
            "Epoch 4/15\n",
            "368/368 [==============================] - 1s 2ms/step - loss: 0.6272 - accuracy: 0.6776\n",
            "Epoch 5/15\n",
            "368/368 [==============================] - 1s 2ms/step - loss: 0.6268 - accuracy: 0.6776\n",
            "Epoch 6/15\n",
            "368/368 [==============================] - 1s 2ms/step - loss: 0.6258 - accuracy: 0.6776\n",
            "Epoch 7/15\n",
            "368/368 [==============================] - 1s 3ms/step - loss: 0.6254 - accuracy: 0.6776\n",
            "Epoch 8/15\n",
            "368/368 [==============================] - 1s 3ms/step - loss: 0.6253 - accuracy: 0.6776\n",
            "Epoch 9/15\n",
            "368/368 [==============================] - 1s 4ms/step - loss: 0.6244 - accuracy: 0.6776\n",
            "Epoch 10/15\n",
            "368/368 [==============================] - 1s 3ms/step - loss: 0.6226 - accuracy: 0.6776\n",
            "Epoch 11/15\n",
            "368/368 [==============================] - 1s 2ms/step - loss: 0.6239 - accuracy: 0.6776\n",
            "Epoch 12/15\n",
            "368/368 [==============================] - 1s 2ms/step - loss: 0.6238 - accuracy: 0.6776\n",
            "Epoch 13/15\n",
            "368/368 [==============================] - 1s 2ms/step - loss: 0.6239 - accuracy: 0.6776\n",
            "Epoch 14/15\n",
            "368/368 [==============================] - 1s 2ms/step - loss: 0.6232 - accuracy: 0.6776\n",
            "Epoch 15/15\n",
            "368/368 [==============================] - 1s 2ms/step - loss: 0.6236 - accuracy: 0.6776\n"
          ]
        },
        {
          "output_type": "execute_result",
          "data": {
            "text/plain": [
              "<keras.src.callbacks.History at 0x78d19c28ae60>"
            ]
          },
          "metadata": {},
          "execution_count": 76
        }
      ]
    },
    {
      "cell_type": "code",
      "source": [],
      "metadata": {
        "id": "_l1eqiQnck8J"
      },
      "id": "_l1eqiQnck8J",
      "execution_count": null,
      "outputs": []
    },
    {
      "cell_type": "code",
      "source": [],
      "metadata": {
        "id": "gm0iQ4-hclIo"
      },
      "id": "gm0iQ4-hclIo",
      "execution_count": null,
      "outputs": []
    },
    {
      "cell_type": "code",
      "source": [],
      "metadata": {
        "id": "A6jwnxvWclPU"
      },
      "id": "A6jwnxvWclPU",
      "execution_count": null,
      "outputs": []
    },
    {
      "cell_type": "code",
      "source": [],
      "metadata": {
        "id": "ZyMSEa6tclUz"
      },
      "id": "ZyMSEa6tclUz",
      "execution_count": null,
      "outputs": []
    },
    {
      "cell_type": "code",
      "source": [
        "model = tf.keras.Sequential([\n",
        "tf.keras.layers.Flatten(input_shape=[735, 3]),\n",
        "tf.keras.layers.Dense(300, activation=\"relu\"),\n",
        "tf.keras.layers.Dense(100, activation=\"relu\"),\n",
        "tf.keras.layers.Dense(10, activation=\"softmax\")\n",
        "])"
      ],
      "metadata": {
        "id": "0ZUY1zlakTHc"
      },
      "id": "0ZUY1zlakTHc",
      "execution_count": 65,
      "outputs": []
    },
    {
      "cell_type": "code",
      "source": [],
      "metadata": {
        "id": "z0UPEsfXkUfs"
      },
      "id": "z0UPEsfXkUfs",
      "execution_count": null,
      "outputs": []
    },
    {
      "cell_type": "code",
      "source": [],
      "metadata": {
        "id": "m7lbx3hNkUzB"
      },
      "id": "m7lbx3hNkUzB",
      "execution_count": null,
      "outputs": []
    }
  ],
  "metadata": {
    "kernelspec": {
      "display_name": "Python 3 (ipykernel)",
      "language": "python",
      "name": "python3"
    },
    "language_info": {
      "codemirror_mode": {
        "name": "ipython",
        "version": 3
      },
      "file_extension": ".py",
      "mimetype": "text/x-python",
      "name": "python",
      "nbconvert_exporter": "python",
      "pygments_lexer": "ipython3",
      "version": "3.10.13"
    },
    "colab": {
      "provenance": [],
      "include_colab_link": true
    }
  },
  "nbformat": 4,
  "nbformat_minor": 5
}